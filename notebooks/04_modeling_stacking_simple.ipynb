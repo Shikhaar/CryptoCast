{
 "cells": [
  {
   "cell_type": "code",
   "execution_count": 5,
   "id": "fd9f67d3",
   "metadata": {},
   "outputs": [],
   "source": [
    "# 1. Import libraries\n",
    "import pandas as pd\n",
    "import numpy as np\n",
    "from sklearn.model_selection import train_test_split\n",
    "from sklearn.linear_model import LinearRegression\n",
    "from sklearn.tree import DecisionTreeRegressor\n",
    "from sklearn.ensemble import StackingRegressor\n",
    "import xgboost as xgb\n",
    "from sklearn.metrics import mean_absolute_error, mean_squared_error, r2_score\n",
    "import matplotlib.pyplot as plt\n",
    "\n",
    "plt.rcParams[\"figure.figsize\"] = (12,6)"
   ]
  },
  {
   "cell_type": "code",
   "execution_count": 6,
   "id": "7b21d70a",
   "metadata": {},
   "outputs": [
    {
     "name": "stdout",
     "output_type": "stream",
     "text": [
      "(4719, 16)\n"
     ]
    },
    {
     "data": {
      "text/html": [
       "<div>\n",
       "<style scoped>\n",
       "    .dataframe tbody tr th:only-of-type {\n",
       "        vertical-align: middle;\n",
       "    }\n",
       "\n",
       "    .dataframe tbody tr th {\n",
       "        vertical-align: top;\n",
       "    }\n",
       "\n",
       "    .dataframe thead th {\n",
       "        text-align: right;\n",
       "    }\n",
       "</style>\n",
       "<table border=\"1\" class=\"dataframe\">\n",
       "  <thead>\n",
       "    <tr style=\"text-align: right;\">\n",
       "      <th></th>\n",
       "      <th>Date</th>\n",
       "      <th>Price</th>\n",
       "      <th>Open</th>\n",
       "      <th>High</th>\n",
       "      <th>Low</th>\n",
       "      <th>Vol.</th>\n",
       "      <th>Change %</th>\n",
       "      <th>Price_lag1</th>\n",
       "      <th>Price_lag2</th>\n",
       "      <th>MA7</th>\n",
       "      <th>MA30</th>\n",
       "      <th>Price_change_1d</th>\n",
       "      <th>Volatility</th>\n",
       "      <th>RSI14</th>\n",
       "      <th>Daily_Return_pct</th>\n",
       "      <th>Rolling_volatility_7d</th>\n",
       "    </tr>\n",
       "  </thead>\n",
       "  <tbody>\n",
       "    <tr>\n",
       "      <th>0</th>\n",
       "      <td>2012-04-30</td>\n",
       "      <td>4.9</td>\n",
       "      <td>4.9</td>\n",
       "      <td>5.0</td>\n",
       "      <td>4.9</td>\n",
       "      <td>55770.0</td>\n",
       "      <td>0.00</td>\n",
       "      <td>4.9</td>\n",
       "      <td>5.0</td>\n",
       "      <td>5.028571</td>\n",
       "      <td>4.980000</td>\n",
       "      <td>0.0</td>\n",
       "      <td>0.1</td>\n",
       "      <td>50.0</td>\n",
       "      <td>0.000000</td>\n",
       "      <td>0.095119</td>\n",
       "    </tr>\n",
       "    <tr>\n",
       "      <th>1</th>\n",
       "      <td>2012-05-01</td>\n",
       "      <td>5.0</td>\n",
       "      <td>4.9</td>\n",
       "      <td>5.0</td>\n",
       "      <td>4.9</td>\n",
       "      <td>36680.0</td>\n",
       "      <td>1.01</td>\n",
       "      <td>4.9</td>\n",
       "      <td>4.9</td>\n",
       "      <td>5.014286</td>\n",
       "      <td>4.986667</td>\n",
       "      <td>0.1</td>\n",
       "      <td>0.1</td>\n",
       "      <td>50.0</td>\n",
       "      <td>2.040816</td>\n",
       "      <td>0.089974</td>\n",
       "    </tr>\n",
       "    <tr>\n",
       "      <th>2</th>\n",
       "      <td>2012-05-02</td>\n",
       "      <td>5.1</td>\n",
       "      <td>5.0</td>\n",
       "      <td>5.2</td>\n",
       "      <td>5.0</td>\n",
       "      <td>95960.0</td>\n",
       "      <td>1.40</td>\n",
       "      <td>5.0</td>\n",
       "      <td>4.9</td>\n",
       "      <td>5.014286</td>\n",
       "      <td>4.990000</td>\n",
       "      <td>0.1</td>\n",
       "      <td>0.2</td>\n",
       "      <td>50.0</td>\n",
       "      <td>2.000000</td>\n",
       "      <td>0.089974</td>\n",
       "    </tr>\n",
       "    <tr>\n",
       "      <th>3</th>\n",
       "      <td>2012-05-03</td>\n",
       "      <td>5.1</td>\n",
       "      <td>5.1</td>\n",
       "      <td>5.2</td>\n",
       "      <td>5.0</td>\n",
       "      <td>35420.0</td>\n",
       "      <td>1.18</td>\n",
       "      <td>5.1</td>\n",
       "      <td>5.0</td>\n",
       "      <td>5.014286</td>\n",
       "      <td>4.996667</td>\n",
       "      <td>0.0</td>\n",
       "      <td>0.2</td>\n",
       "      <td>50.0</td>\n",
       "      <td>0.000000</td>\n",
       "      <td>0.089974</td>\n",
       "    </tr>\n",
       "    <tr>\n",
       "      <th>4</th>\n",
       "      <td>2012-05-04</td>\n",
       "      <td>5.1</td>\n",
       "      <td>5.1</td>\n",
       "      <td>5.2</td>\n",
       "      <td>5.1</td>\n",
       "      <td>43630.0</td>\n",
       "      <td>-1.17</td>\n",
       "      <td>5.1</td>\n",
       "      <td>5.1</td>\n",
       "      <td>5.014286</td>\n",
       "      <td>5.003333</td>\n",
       "      <td>0.0</td>\n",
       "      <td>0.1</td>\n",
       "      <td>37.5</td>\n",
       "      <td>0.000000</td>\n",
       "      <td>0.089974</td>\n",
       "    </tr>\n",
       "  </tbody>\n",
       "</table>\n",
       "</div>"
      ],
      "text/plain": [
       "        Date  Price  Open  High  Low     Vol.  Change %  Price_lag1  \\\n",
       "0 2012-04-30    4.9   4.9   5.0  4.9  55770.0      0.00         4.9   \n",
       "1 2012-05-01    5.0   4.9   5.0  4.9  36680.0      1.01         4.9   \n",
       "2 2012-05-02    5.1   5.0   5.2  5.0  95960.0      1.40         5.0   \n",
       "3 2012-05-03    5.1   5.1   5.2  5.0  35420.0      1.18         5.1   \n",
       "4 2012-05-04    5.1   5.1   5.2  5.1  43630.0     -1.17         5.1   \n",
       "\n",
       "   Price_lag2       MA7      MA30  Price_change_1d  Volatility  RSI14  \\\n",
       "0         5.0  5.028571  4.980000              0.0         0.1   50.0   \n",
       "1         4.9  5.014286  4.986667              0.1         0.1   50.0   \n",
       "2         4.9  5.014286  4.990000              0.1         0.2   50.0   \n",
       "3         5.0  5.014286  4.996667              0.0         0.2   50.0   \n",
       "4         5.1  5.014286  5.003333              0.0         0.1   37.5   \n",
       "\n",
       "   Daily_Return_pct  Rolling_volatility_7d  \n",
       "0          0.000000               0.095119  \n",
       "1          2.040816               0.089974  \n",
       "2          2.000000               0.089974  \n",
       "3          0.000000               0.089974  \n",
       "4          0.000000               0.089974  "
      ]
     },
     "metadata": {},
     "output_type": "display_data"
    }
   ],
   "source": [
    "# 2. Load feature dataset\n",
    "data_path = \"../data/processed/btc_features.csv\"\n",
    "df = pd.read_csv(data_path)\n",
    "\n",
    "# Convert Date\n",
    "df['Date'] = pd.to_datetime(df['Date'])\n",
    "df = df.sort_values('Date')\n",
    "\n",
    "print(df.shape)\n",
    "display(df.head())"
   ]
  },
  {
   "cell_type": "code",
   "execution_count": 7,
   "id": "10a883fb",
   "metadata": {},
   "outputs": [
    {
     "name": "stdout",
     "output_type": "stream",
     "text": [
      "(3775, 14) (944, 14)\n"
     ]
    }
   ],
   "source": [
    "# 3. Train-test split\n",
    "X = df.drop(['Date', 'Price'], axis=1)\n",
    "y = df['Price']\n",
    "\n",
    "X_train, X_test, y_train, y_test = train_test_split(X, y, test_size=0.2, shuffle=False)\n",
    "\n",
    "print(X_train.shape, X_test.shape)"
   ]
  },
  {
   "cell_type": "code",
   "execution_count": 8,
   "id": "9dc366ba",
   "metadata": {},
   "outputs": [],
   "source": [
    "# 4. Define base models\n",
    "base_models = [\n",
    "    ('lr', LinearRegression()),\n",
    "    ('dt', DecisionTreeRegressor(random_state=42)),\n",
    "    ('xgb', xgb.XGBRegressor(objective='reg:squarederror', random_state=42))\n",
    "]"
   ]
  },
  {
   "cell_type": "code",
   "execution_count": 9,
   "id": "0dfbbead",
   "metadata": {},
   "outputs": [],
   "source": [
    "# 5. Define stacking model\n",
    "stacking_model = StackingRegressor(\n",
    "    estimators=base_models,\n",
    "    final_estimator=LinearRegression()\n",
    ")"
   ]
  },
  {
   "cell_type": "code",
   "execution_count": 10,
   "id": "5b8b07c7",
   "metadata": {},
   "outputs": [],
   "source": [
    "# 6. Train the stacking model\n",
    "stacking_model.fit(X_train, y_train)\n",
    "\n",
    "# Predict on test data\n",
    "y_pred_stack = stacking_model.predict(X_test)"
   ]
  },
  {
   "cell_type": "code",
   "execution_count": 11,
   "id": "15ee1ec7",
   "metadata": {},
   "outputs": [
    {
     "name": "stdout",
     "output_type": "stream",
     "text": [
      "Stacking Model Evaluation Metrics:\n",
      "MAE: 1.7700655254144696e-10\n",
      "MSE: 4.8835295799058786e-20\n",
      "RMSE: 2.2098709419117394e-10\n",
      "R^2: 1.0\n"
     ]
    }
   ],
   "source": [
    "# 7. Evaluate the stacking model\n",
    "print(\"Stacking Model Evaluation Metrics:\")\n",
    "print(f\"MAE: {mean_absolute_error(y_test, y_pred_stack)}\")\n",
    "print(f\"MSE: {mean_squared_error(y_test, y_pred_stack)}\")\n",
    "print(f\"RMSE: {np.sqrt(mean_squared_error(y_test, y_pred_stack))}\")\n",
    "print(f\"R^2: {r2_score(y_test, y_pred_stack)}\")"
   ]
  },
  {
   "cell_type": "code",
   "execution_count": 12,
   "id": "cefb7496",
   "metadata": {},
   "outputs": [
    {
     "data": {
      "image/png": "[encoded data removed]",
      "text/plain": [
       "<Figure size 1200x600 with 1 Axes>"
      ]
     },
     "metadata": {},
     "output_type": "display_data"
    }
   ],
   "source": [
    "# Optional comparison\n",
    "models = ['Best Single Model (03)', 'Stacking Model']\n",
    "r2_scores = [0.88, r2_score(y_test, y_pred_stack)]  # Example values\n",
    "\n",
    "plt.bar(models, r2_scores, color=['skyblue', 'purple'])\n",
    "plt.title('Comparison: Single vs Stacked Model')\n",
    "plt.ylabel('R^2 Score')\n",
    "plt.show()"
   ]
  },
  {
   "cell_type": "code",
   "execution_count": null,
   "id": "30a74e1b",
   "metadata": {},
   "outputs": [],
   "source": []
  }
 ],
 "metadata": {
  "kernelspec": {
   "display_name": "venv",
   "language": "python",
   "name": "python3"
  },
  "language_info": {
   "codemirror_mode": {
    "name": "ipython",
    "version": 3
   },
   "file_extension": ".py",
   "mimetype": "text/x-python",
   "name": "python",
   "nbconvert_exporter": "python",
   "pygments_lexer": "ipython3",
   "version": "3.9.13"
  }
 },
 "nbformat": 4,
 "nbformat_minor": 5
}
