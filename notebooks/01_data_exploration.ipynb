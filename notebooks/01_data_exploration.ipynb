{
 "cells": [
  {
   "cell_type": "code",
   "execution_count": 59,
   "id": "bd0d5d59",
   "metadata": {},
   "outputs": [],
   "source": [
    "import sys\n",
    "sys.path.append('../src')\n",
    "\n",
    "from utils import plot_price, display_missing_values\n",
    "import pandas as pd\n",
    "import matplotlib.pyplot as plt\n",
    "import seaborn as sns\n",
    "import os"
   ]
  },
  {
   "cell_type": "code",
   "execution_count": null,
   "id": "3a886546",
   "metadata": {},
   "outputs": [],
   "source": [
    "sns.set_theme(style=\"whitegrid\")\n",
    "plt.rcParams[\"figure.figsize\"] = (12,6)"
   ]
  },
  {
   "cell_type": "code",
   "execution_count": 61,
   "id": "929a16ea",
   "metadata": {},
   "outputs": [],
   "source": [
    "data_path = \"../data/raw/btc_data.csv\"   # Change filename accordingly\n",
    "df = pd.read_csv(data_path)"
   ]
  },
  {
   "cell_type": "code",
   "execution_count": 62,
   "id": "4b213147",
   "metadata": {},
   "outputs": [
    {
     "name": "stdout",
     "output_type": "stream",
     "text": [
      "Shape of dataset: (4748, 7)\n",
      "\n",
      "First few rows:\n"
     ]
    },
    {
     "data": {
      "text/html": [
       "<div>\n",
       "<style scoped>\n",
       "    .dataframe tbody tr th:only-of-type {\n",
       "        vertical-align: middle;\n",
       "    }\n",
       "\n",
       "    .dataframe tbody tr th {\n",
       "        vertical-align: top;\n",
       "    }\n",
       "\n",
       "    .dataframe thead th {\n",
       "        text-align: right;\n",
       "    }\n",
       "</style>\n",
       "<table border=\"1\" class=\"dataframe\">\n",
       "  <thead>\n",
       "    <tr style=\"text-align: right;\">\n",
       "      <th></th>\n",
       "      <th>Date</th>\n",
       "      <th>Price</th>\n",
       "      <th>Open</th>\n",
       "      <th>High</th>\n",
       "      <th>Low</th>\n",
       "      <th>Vol.</th>\n",
       "      <th>Change %</th>\n",
       "    </tr>\n",
       "  </thead>\n",
       "  <tbody>\n",
       "    <tr>\n",
       "      <th>0</th>\n",
       "      <td>03/31/2025</td>\n",
       "      <td>82,548.8</td>\n",
       "      <td>82,375.4</td>\n",
       "      <td>83,895.6</td>\n",
       "      <td>81,300.1</td>\n",
       "      <td>61.76K</td>\n",
       "      <td>0.22%</td>\n",
       "    </tr>\n",
       "    <tr>\n",
       "      <th>1</th>\n",
       "      <td>03/30/2025</td>\n",
       "      <td>82,371.6</td>\n",
       "      <td>82,646.8</td>\n",
       "      <td>83,532.9</td>\n",
       "      <td>81,593.2</td>\n",
       "      <td>35.37K</td>\n",
       "      <td>-0.33%</td>\n",
       "    </tr>\n",
       "    <tr>\n",
       "      <th>2</th>\n",
       "      <td>03/29/2025</td>\n",
       "      <td>82,645.7</td>\n",
       "      <td>84,412.1</td>\n",
       "      <td>84,603.4</td>\n",
       "      <td>81,668.2</td>\n",
       "      <td>39.34K</td>\n",
       "      <td>-2.09%</td>\n",
       "    </tr>\n",
       "    <tr>\n",
       "      <th>3</th>\n",
       "      <td>03/28/2025</td>\n",
       "      <td>84,410.4</td>\n",
       "      <td>87,209.5</td>\n",
       "      <td>87,507.5</td>\n",
       "      <td>83,596.7</td>\n",
       "      <td>85.25K</td>\n",
       "      <td>-3.23%</td>\n",
       "    </tr>\n",
       "    <tr>\n",
       "      <th>4</th>\n",
       "      <td>03/27/2025</td>\n",
       "      <td>87,228.2</td>\n",
       "      <td>86,937.0</td>\n",
       "      <td>87,751.4</td>\n",
       "      <td>85,844.4</td>\n",
       "      <td>56.49K</td>\n",
       "      <td>0.36%</td>\n",
       "    </tr>\n",
       "  </tbody>\n",
       "</table>\n",
       "</div>"
      ],
      "text/plain": [
       "         Date     Price      Open      High       Low    Vol. Change %\n",
       "0  03/31/2025  82,548.8  82,375.4  83,895.6  81,300.1  61.76K    0.22%\n",
       "1  03/30/2025  82,371.6  82,646.8  83,532.9  81,593.2  35.37K   -0.33%\n",
       "2  03/29/2025  82,645.7  84,412.1  84,603.4  81,668.2  39.34K   -2.09%\n",
       "3  03/28/2025  84,410.4  87,209.5  87,507.5  83,596.7  85.25K   -3.23%\n",
       "4  03/27/2025  87,228.2  86,937.0  87,751.4  85,844.4  56.49K    0.36%"
      ]
     },
     "metadata": {},
     "output_type": "display_data"
    }
   ],
   "source": [
    "print(\"Shape of dataset:\", df.shape)\n",
    "print(\"\\nFirst few rows:\")\n",
    "display(df.head())"
   ]
  },
  {
   "cell_type": "code",
   "execution_count": 63,
   "id": "70e119ce",
   "metadata": {},
   "outputs": [
    {
     "name": "stdout",
     "output_type": "stream",
     "text": [
      "\n",
      "Dataset Info:\n",
      "<class 'pandas.core.frame.DataFrame'>\n",
      "RangeIndex: 4748 entries, 0 to 4747\n",
      "Data columns (total 7 columns):\n",
      " #   Column    Non-Null Count  Dtype \n",
      "---  ------    --------------  ----- \n",
      " 0   Date      4748 non-null   object\n",
      " 1   Price     4748 non-null   object\n",
      " 2   Open      4748 non-null   object\n",
      " 3   High      4748 non-null   object\n",
      " 4   Low       4748 non-null   object\n",
      " 5   Vol.      4748 non-null   object\n",
      " 6   Change %  4748 non-null   object\n",
      "dtypes: object(7)\n",
      "memory usage: 259.8+ KB\n",
      "None\n"
     ]
    }
   ],
   "source": [
    "print(\"\\nDataset Info:\")\n",
    "print(df.info())"
   ]
  },
  {
   "cell_type": "code",
   "execution_count": 64,
   "id": "c1b71b00",
   "metadata": {},
   "outputs": [
    {
     "name": "stdout",
     "output_type": "stream",
     "text": [
      "\n",
      "Missing values:\n",
      "Date        0\n",
      "Price       0\n",
      "Open        0\n",
      "High        0\n",
      "Low         0\n",
      "Vol.        0\n",
      "Change %    0\n",
      "dtype: int64\n"
     ]
    }
   ],
   "source": [
    "print(\"\\nMissing values:\")\n",
    "print(df.isnull().sum())"
   ]
  },
  {
   "cell_type": "code",
   "execution_count": 65,
   "id": "3e2d42cd",
   "metadata": {},
   "outputs": [
    {
     "data": {
      "text/html": [
       "<div>\n",
       "<style scoped>\n",
       "    .dataframe tbody tr th:only-of-type {\n",
       "        vertical-align: middle;\n",
       "    }\n",
       "\n",
       "    .dataframe tbody tr th {\n",
       "        vertical-align: top;\n",
       "    }\n",
       "\n",
       "    .dataframe thead th {\n",
       "        text-align: right;\n",
       "    }\n",
       "</style>\n",
       "<table border=\"1\" class=\"dataframe\">\n",
       "  <thead>\n",
       "    <tr style=\"text-align: right;\">\n",
       "      <th></th>\n",
       "      <th>Date</th>\n",
       "      <th>Price</th>\n",
       "      <th>Open</th>\n",
       "      <th>High</th>\n",
       "      <th>Low</th>\n",
       "      <th>Vol.</th>\n",
       "      <th>Change %</th>\n",
       "    </tr>\n",
       "  </thead>\n",
       "  <tbody>\n",
       "    <tr>\n",
       "      <th>4747</th>\n",
       "      <td>2012-04-01</td>\n",
       "      <td>4.8</td>\n",
       "      <td>4.9</td>\n",
       "      <td>4.9</td>\n",
       "      <td>4.7</td>\n",
       "      <td>35950.0</td>\n",
       "      <td>-1.63</td>\n",
       "    </tr>\n",
       "    <tr>\n",
       "      <th>4746</th>\n",
       "      <td>2012-04-02</td>\n",
       "      <td>5.0</td>\n",
       "      <td>4.8</td>\n",
       "      <td>5.1</td>\n",
       "      <td>4.8</td>\n",
       "      <td>80660.0</td>\n",
       "      <td>2.90</td>\n",
       "    </tr>\n",
       "    <tr>\n",
       "      <th>4745</th>\n",
       "      <td>2012-04-03</td>\n",
       "      <td>4.9</td>\n",
       "      <td>5.0</td>\n",
       "      <td>5.0</td>\n",
       "      <td>4.8</td>\n",
       "      <td>78480.0</td>\n",
       "      <td>0.00</td>\n",
       "    </tr>\n",
       "    <tr>\n",
       "      <th>4744</th>\n",
       "      <td>2012-04-04</td>\n",
       "      <td>4.9</td>\n",
       "      <td>4.9</td>\n",
       "      <td>5.0</td>\n",
       "      <td>4.9</td>\n",
       "      <td>51040.0</td>\n",
       "      <td>0.00</td>\n",
       "    </tr>\n",
       "    <tr>\n",
       "      <th>4743</th>\n",
       "      <td>2012-04-05</td>\n",
       "      <td>4.9</td>\n",
       "      <td>4.9</td>\n",
       "      <td>4.9</td>\n",
       "      <td>4.9</td>\n",
       "      <td>33810.0</td>\n",
       "      <td>0.00</td>\n",
       "    </tr>\n",
       "  </tbody>\n",
       "</table>\n",
       "</div>"
      ],
      "text/plain": [
       "           Date  Price  Open  High  Low     Vol.  Change %\n",
       "4747 2012-04-01    4.8   4.9   4.9  4.7  35950.0     -1.63\n",
       "4746 2012-04-02    5.0   4.8   5.1  4.8  80660.0      2.90\n",
       "4745 2012-04-03    4.9   5.0   5.0  4.8  78480.0      0.00\n",
       "4744 2012-04-04    4.9   4.9   5.0  4.9  51040.0      0.00\n",
       "4743 2012-04-05    4.9   4.9   4.9  4.9  33810.0      0.00"
      ]
     },
     "execution_count": 65,
     "metadata": {},
     "output_type": "execute_result"
    }
   ],
   "source": [
    "# --- Cleaning ---\n",
    "\n",
    "# Remove commas in numbers (like \"82,548.8\")\n",
    "for col in ['Price', 'Open', 'High', 'Low']:\n",
    "    df[col] = df[col].str.replace(',', '')\n",
    "    df[col] = df[col].astype(float)\n",
    "\n",
    "# Handle Volume (K, M, B)\n",
    "def convert_volume(val):\n",
    "    if isinstance(val, str):\n",
    "        if 'K' in val:\n",
    "            return float(val.replace('K', '').replace(',', '')) * 1e3\n",
    "        elif 'M' in val:\n",
    "            return float(val.replace('M', '').replace(',', '')) * 1e6\n",
    "        elif 'B' in val:\n",
    "            return float(val.replace('B', '').replace(',', '')) * 1e9\n",
    "        else:\n",
    "            return float(val.replace(',', ''))\n",
    "    return val\n",
    "\n",
    "df['Vol.'] = df['Vol.'].apply(convert_volume)\n",
    "\n",
    "# Remove '%' from 'Change %' and convert to float\n",
    "df['Change %'] = df['Change %'].str.replace('%', '')\n",
    "df['Change %'] = df['Change %'].astype(float)\n",
    "\n",
    "# Convert 'Date' to datetime\n",
    "df['Date'] = pd.to_datetime(df['Date'])\n",
    "\n",
    "# Sort by date ascending\n",
    "df = df.sort_values('Date')\n",
    "df.head()"
   ]
  },
  {
   "cell_type": "code",
   "execution_count": 66,
   "id": "3571030e",
   "metadata": {},
   "outputs": [
    {
     "data": {
      "image/png": "[encoded data removed]",
      "text/plain": [
       "<Figure size 1400x700 with 1 Axes>"
      ]
     },
     "metadata": {},
     "output_type": "display_data"
    }
   ],
   "source": [
    "plot_price(df)"
   ]
  },
  {
   "cell_type": "code",
   "execution_count": 67,
   "id": "efd6eb61",
   "metadata": {},
   "outputs": [
    {
     "name": "stdout",
     "output_type": "stream",
     "text": [
      "✅ Data cleaned and saved!\n"
     ]
    }
   ],
   "source": [
    "processed_data_path = \"../data/processed/btc_clean.csv\"\n",
    "df.to_csv(\"../data/processed/btc_clean.csv\", index=False)\n",
    "\n",
    "print(\"✅ Data cleaned and saved!\")"
   ]
  },
  {
   "cell_type": "code",
   "execution_count": null,
   "id": "ed203355",
   "metadata": {},
   "outputs": [],
   "source": []
  }
 ],
 "metadata": {
  "kernelspec": {
   "display_name": "venv",
   "language": "python",
   "name": "python3"
  },
  "language_info": {
   "codemirror_mode": {
    "name": "ipython",
    "version": 3
   },
   "file_extension": ".py",
   "mimetype": "text/x-python",
   "name": "python",
   "nbconvert_exporter": "python",
   "pygments_lexer": "ipython3",
   "version": "3.9.13"
  }
 },
 "nbformat": 4,
 "nbformat_minor": 5
}
