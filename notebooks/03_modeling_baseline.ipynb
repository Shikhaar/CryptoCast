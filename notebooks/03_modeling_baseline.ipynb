{
 "cells": [
  {
   "cell_type": "code",
   "execution_count": 1,
   "id": "89d04d5e",
   "metadata": {},
   "outputs": [],
   "source": [
    "import pandas as pd\n",
    "import numpy as np\n",
    "import matplotlib.pyplot as plt\n",
    "import seaborn as sns\n",
    "from sklearn.model_selection import train_test_split\n",
    "from sklearn.linear_model import LinearRegression\n",
    "from sklearn.metrics import mean_absolute_error, mean_squared_error, r2_score\n",
    "from sklearn.tree import DecisionTreeRegressor\n",
    "import xgboost as xgb\n",
    "\n",
    "sns.set_theme(style=\"whitegrid\")\n",
    "plt.rcParams[\"figure.figsize\"] = (12,6)"
   ]
  },
  {
   "cell_type": "code",
   "execution_count": 2,
   "id": "61a4e935",
   "metadata": {},
   "outputs": [
    {
     "name": "stdout",
     "output_type": "stream",
     "text": [
      "Shape of dataset: (4719, 16)\n"
     ]
    },
    {
     "data": {
      "text/html": [
       "<div>\n",
       "<style scoped>\n",
       "    .dataframe tbody tr th:only-of-type {\n",
       "        vertical-align: middle;\n",
       "    }\n",
       "\n",
       "    .dataframe tbody tr th {\n",
       "        vertical-align: top;\n",
       "    }\n",
       "\n",
       "    .dataframe thead th {\n",
       "        text-align: right;\n",
       "    }\n",
       "</style>\n",
       "<table border=\"1\" class=\"dataframe\">\n",
       "  <thead>\n",
       "    <tr style=\"text-align: right;\">\n",
       "      <th></th>\n",
       "      <th>Date</th>\n",
       "      <th>Price</th>\n",
       "      <th>Open</th>\n",
       "      <th>High</th>\n",
       "      <th>Low</th>\n",
       "      <th>Vol.</th>\n",
       "      <th>Change %</th>\n",
       "      <th>Price_lag1</th>\n",
       "      <th>Price_lag2</th>\n",
       "      <th>MA7</th>\n",
       "      <th>MA30</th>\n",
       "      <th>Price_change_1d</th>\n",
       "      <th>Volatility</th>\n",
       "      <th>RSI14</th>\n",
       "      <th>Daily_Return_pct</th>\n",
       "      <th>Rolling_volatility_7d</th>\n",
       "    </tr>\n",
       "  </thead>\n",
       "  <tbody>\n",
       "    <tr>\n",
       "      <th>0</th>\n",
       "      <td>2012-04-30</td>\n",
       "      <td>4.9</td>\n",
       "      <td>4.9</td>\n",
       "      <td>5.0</td>\n",
       "      <td>4.9</td>\n",
       "      <td>55770.0</td>\n",
       "      <td>0.00</td>\n",
       "      <td>4.9</td>\n",
       "      <td>5.0</td>\n",
       "      <td>5.028571</td>\n",
       "      <td>4.980000</td>\n",
       "      <td>0.0</td>\n",
       "      <td>0.1</td>\n",
       "      <td>50.0</td>\n",
       "      <td>0.000000</td>\n",
       "      <td>0.095119</td>\n",
       "    </tr>\n",
       "    <tr>\n",
       "      <th>1</th>\n",
       "      <td>2012-05-01</td>\n",
       "      <td>5.0</td>\n",
       "      <td>4.9</td>\n",
       "      <td>5.0</td>\n",
       "      <td>4.9</td>\n",
       "      <td>36680.0</td>\n",
       "      <td>1.01</td>\n",
       "      <td>4.9</td>\n",
       "      <td>4.9</td>\n",
       "      <td>5.014286</td>\n",
       "      <td>4.986667</td>\n",
       "      <td>0.1</td>\n",
       "      <td>0.1</td>\n",
       "      <td>50.0</td>\n",
       "      <td>2.040816</td>\n",
       "      <td>0.089974</td>\n",
       "    </tr>\n",
       "    <tr>\n",
       "      <th>2</th>\n",
       "      <td>2012-05-02</td>\n",
       "      <td>5.1</td>\n",
       "      <td>5.0</td>\n",
       "      <td>5.2</td>\n",
       "      <td>5.0</td>\n",
       "      <td>95960.0</td>\n",
       "      <td>1.40</td>\n",
       "      <td>5.0</td>\n",
       "      <td>4.9</td>\n",
       "      <td>5.014286</td>\n",
       "      <td>4.990000</td>\n",
       "      <td>0.1</td>\n",
       "      <td>0.2</td>\n",
       "      <td>50.0</td>\n",
       "      <td>2.000000</td>\n",
       "      <td>0.089974</td>\n",
       "    </tr>\n",
       "    <tr>\n",
       "      <th>3</th>\n",
       "      <td>2012-05-03</td>\n",
       "      <td>5.1</td>\n",
       "      <td>5.1</td>\n",
       "      <td>5.2</td>\n",
       "      <td>5.0</td>\n",
       "      <td>35420.0</td>\n",
       "      <td>1.18</td>\n",
       "      <td>5.1</td>\n",
       "      <td>5.0</td>\n",
       "      <td>5.014286</td>\n",
       "      <td>4.996667</td>\n",
       "      <td>0.0</td>\n",
       "      <td>0.2</td>\n",
       "      <td>50.0</td>\n",
       "      <td>0.000000</td>\n",
       "      <td>0.089974</td>\n",
       "    </tr>\n",
       "    <tr>\n",
       "      <th>4</th>\n",
       "      <td>2012-05-04</td>\n",
       "      <td>5.1</td>\n",
       "      <td>5.1</td>\n",
       "      <td>5.2</td>\n",
       "      <td>5.1</td>\n",
       "      <td>43630.0</td>\n",
       "      <td>-1.17</td>\n",
       "      <td>5.1</td>\n",
       "      <td>5.1</td>\n",
       "      <td>5.014286</td>\n",
       "      <td>5.003333</td>\n",
       "      <td>0.0</td>\n",
       "      <td>0.1</td>\n",
       "      <td>37.5</td>\n",
       "      <td>0.000000</td>\n",
       "      <td>0.089974</td>\n",
       "    </tr>\n",
       "  </tbody>\n",
       "</table>\n",
       "</div>"
      ],
      "text/plain": [
       "        Date  Price  Open  High  Low     Vol.  Change %  Price_lag1  \\\n",
       "0 2012-04-30    4.9   4.9   5.0  4.9  55770.0      0.00         4.9   \n",
       "1 2012-05-01    5.0   4.9   5.0  4.9  36680.0      1.01         4.9   \n",
       "2 2012-05-02    5.1   5.0   5.2  5.0  95960.0      1.40         5.0   \n",
       "3 2012-05-03    5.1   5.1   5.2  5.0  35420.0      1.18         5.1   \n",
       "4 2012-05-04    5.1   5.1   5.2  5.1  43630.0     -1.17         5.1   \n",
       "\n",
       "   Price_lag2       MA7      MA30  Price_change_1d  Volatility  RSI14  \\\n",
       "0         5.0  5.028571  4.980000              0.0         0.1   50.0   \n",
       "1         4.9  5.014286  4.986667              0.1         0.1   50.0   \n",
       "2         4.9  5.014286  4.990000              0.1         0.2   50.0   \n",
       "3         5.0  5.014286  4.996667              0.0         0.2   50.0   \n",
       "4         5.1  5.014286  5.003333              0.0         0.1   37.5   \n",
       "\n",
       "   Daily_Return_pct  Rolling_volatility_7d  \n",
       "0          0.000000               0.095119  \n",
       "1          2.040816               0.089974  \n",
       "2          2.000000               0.089974  \n",
       "3          0.000000               0.089974  \n",
       "4          0.000000               0.089974  "
      ]
     },
     "metadata": {},
     "output_type": "display_data"
    }
   ],
   "source": [
    "# 2. Load preprocessed feature data\n",
    "data_path = \"../data/processed/btc_features.csv\"\n",
    "df = pd.read_csv(data_path)\n",
    "\n",
    "# Ensure Date is datetime and sort by date\n",
    "df['Date'] = pd.to_datetime(df['Date'])\n",
    "df = df.sort_values('Date')\n",
    "\n",
    "print(\"Shape of dataset:\", df.shape)\n",
    "display(df.head())"
   ]
  },
  {
   "cell_type": "code",
   "execution_count": 3,
   "id": "c016b90f",
   "metadata": {},
   "outputs": [
    {
     "name": "stdout",
     "output_type": "stream",
     "text": [
      "Training data size: (3775, 14), Testing data size: (944, 14)\n"
     ]
    }
   ],
   "source": [
    "# 3. Split data into X (features) and y (target)\n",
    "X = df.drop(['Date', 'Price'], axis=1)  # All features except Date and Price\n",
    "y = df['Price']  # Price is our target\n",
    "\n",
    "# Split into train and test sets (80% train, 20% test)\n",
    "X_train, X_test, y_train, y_test = train_test_split(X, y, test_size=0.2, shuffle=False)\n",
    "\n",
    "print(f\"Training data size: {X_train.shape}, Testing data size: {X_test.shape}\")"
   ]
  },
  {
   "cell_type": "code",
   "execution_count": 4,
   "id": "b500d78e",
   "metadata": {},
   "outputs": [
    {
     "name": "stdout",
     "output_type": "stream",
     "text": [
      "Linear Regression Evaluation Metrics:\n",
      "MAE: 4.530131448873208e-11\n",
      "MSE: 4.423860056006268e-21\n",
      "RMSE: 6.65121045825966e-11\n",
      "R^2: 1.0\n"
     ]
    }
   ],
   "source": [
    "# 4.1 Linear Regression Model\n",
    "lr_model = LinearRegression()\n",
    "lr_model.fit(X_train, y_train)\n",
    "\n",
    "# Predictions on test data\n",
    "y_pred_lr = lr_model.predict(X_test)\n",
    "\n",
    "# Evaluation metrics\n",
    "print(\"Linear Regression Evaluation Metrics:\")\n",
    "print(f\"MAE: {mean_absolute_error(y_test, y_pred_lr)}\")\n",
    "print(f\"MSE: {mean_squared_error(y_test, y_pred_lr)}\")\n",
    "print(f\"RMSE: {np.sqrt(mean_squared_error(y_test, y_pred_lr))}\")\n",
    "print(f\"R^2: {r2_score(y_test, y_pred_lr)}\")\n"
   ]
  },
  {
   "cell_type": "code",
   "execution_count": 5,
   "id": "62c2fc4d",
   "metadata": {},
   "outputs": [
    {
     "name": "stdout",
     "output_type": "stream",
     "text": [
      "Decision Tree Evaluation Metrics:\n",
      "MAE: 5448.06906779661\n",
      "MSE: 145177333.4354873\n",
      "RMSE: 12048.955698959446\n",
      "R^2: 0.7862360138465725\n"
     ]
    }
   ],
   "source": [
    "# 5.1 Decision Tree Regressor Model\n",
    "dt_model = DecisionTreeRegressor(random_state=42)\n",
    "dt_model.fit(X_train, y_train)\n",
    "\n",
    "# Predictions on test data\n",
    "y_pred_dt = dt_model.predict(X_test)\n",
    "\n",
    "# Evaluation metrics\n",
    "print(\"Decision Tree Evaluation Metrics:\")\n",
    "print(f\"MAE: {mean_absolute_error(y_test, y_pred_dt)}\")\n",
    "print(f\"MSE: {mean_squared_error(y_test, y_pred_dt)}\")\n",
    "print(f\"RMSE: {np.sqrt(mean_squared_error(y_test, y_pred_dt))}\")\n",
    "print(f\"R^2: {r2_score(y_test, y_pred_dt)}\")\n"
   ]
  },
  {
   "cell_type": "code",
   "execution_count": 6,
   "id": "c4ca2412",
   "metadata": {},
   "outputs": [
    {
     "name": "stdout",
     "output_type": "stream",
     "text": [
      "XGBoost Evaluation Metrics:\n",
      "MAE: 5404.061140674656\n",
      "MSE: 145020375.4100328\n",
      "RMSE: 12042.44059192458\n",
      "R^2: 0.7864671241196843\n"
     ]
    }
   ],
   "source": [
    "# 6.1 XGBoost Model\n",
    "xgb_model = xgb.XGBRegressor(objective='reg:squarederror', random_state=42)\n",
    "xgb_model.fit(X_train, y_train)\n",
    "\n",
    "# Predictions on test data\n",
    "y_pred_xgb = xgb_model.predict(X_test)\n",
    "\n",
    "# Evaluation metrics\n",
    "print(\"XGBoost Evaluation Metrics:\")\n",
    "print(f\"MAE: {mean_absolute_error(y_test, y_pred_xgb)}\")\n",
    "print(f\"MSE: {mean_squared_error(y_test, y_pred_xgb)}\")\n",
    "print(f\"RMSE: {np.sqrt(mean_squared_error(y_test, y_pred_xgb))}\")\n",
    "print(f\"R^2: {r2_score(y_test, y_pred_xgb)}\")\n"
   ]
  },
  {
   "cell_type": "code",
   "execution_count": 7,
   "id": "71c68fa5",
   "metadata": {},
   "outputs": [
    {
     "data": {
      "image/png": "[encoded data removed]",
      "text/plain": [
       "<Figure size 800x500 with 1 Axes>"
      ]
     },
     "metadata": {},
     "output_type": "display_data"
    }
   ],
   "source": [
    "# 7. Model Comparison (R^2 scores)\n",
    "models = ['Linear Regression', 'Decision Tree', 'XGBoost']\n",
    "r2_scores = [r2_score(y_test, y_pred_lr), r2_score(y_test, y_pred_dt), r2_score(y_test, y_pred_xgb)]\n",
    "\n",
    "plt.figure(figsize=(8,5))\n",
    "plt.bar(models, r2_scores, color=['blue', 'orange', 'green'])\n",
    "plt.xlabel(\"Models\")\n",
    "plt.ylabel(\"R^2 Score\")\n",
    "plt.title(\"Model Comparison (R^2 Scores)\")\n",
    "plt.show()\n"
   ]
  },
  {
   "cell_type": "code",
   "execution_count": 8,
   "id": "1b98feaf",
   "metadata": {},
   "outputs": [
    {
     "name": "stdout",
     "output_type": "stream",
     "text": [
      "Best Model: Linear Regression with R^2 Score of 1.0\n"
     ]
    }
   ],
   "source": [
    "# 8. Summary of best model\n",
    "best_model_idx = np.argmax(r2_scores)\n",
    "print(f\"Best Model: {models[best_model_idx]} with R^2 Score of {r2_scores[best_model_idx]}\")"
   ]
  },
  {
   "cell_type": "code",
   "execution_count": null,
   "id": "6ca805d6",
   "metadata": {},
   "outputs": [],
   "source": []
  }
 ],
 "metadata": {
  "kernelspec": {
   "display_name": "venv",
   "language": "python",
   "name": "python3"
  },
  "language_info": {
   "codemirror_mode": {
    "name": "ipython",
    "version": 3
   },
   "file_extension": ".py",
   "mimetype": "text/x-python",
   "name": "python",
   "nbconvert_exporter": "python",
   "pygments_lexer": "ipython3",
   "version": "3.9.13"
  }
 },
 "nbformat": 4,
 "nbformat_minor": 5
}
